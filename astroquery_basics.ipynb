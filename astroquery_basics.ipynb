{
 "cells": [
  {
   "cell_type": "markdown",
   "metadata": {},
   "source": [
    "# Installation:   \n",
    "\n",
    "$ conda install -c astropy astroquery\n"
   ]
  },
  {
   "cell_type": "code",
   "execution_count": 20,
   "metadata": {},
   "outputs": [],
   "source": [
    "# There are lots of different databases to choose from\n",
    "# we probably want one that specifies object type\n",
    "\n",
    "from astroquery.gaia import Gaia\n",
    "from astroquery.vizier import Vizier\n",
    "from astroquery.skyview import SkyView\n",
    "from astroquery.sdss import SDSS\n",
    "from astroquery.simbad import Simbad\n",
    "from astroquery.ned import Ned\n",
    "\n",
    "\n",
    "from astropy import coordinates\n",
    "from astropy import units as u\n",
    "\n"
   ]
  },
  {
   "cell_type": "markdown",
   "metadata": {},
   "source": [
    "# Simple usage-  Querying an object"
   ]
  },
  {
   "cell_type": "markdown",
   "metadata": {},
   "source": [
    "Lets use the NED database! The following paragraph is from https://cds.cern.ch/record/526371/files/0111200.pdf"
   ]
  },
  {
   "cell_type": "markdown",
   "metadata": {},
   "source": [
    "1. INTRODUCTION\n",
    "\n",
    "The NASA/IPAC Extragalactic Database (NED) is widely acknowledged as the most comprehensive and easy-to-use\n",
    "resource for information about sources populating the Universe beyond our Milky Way galaxy∗. NED is an online\n",
    "research facility designed to support scientists, educators, space missions and observatories in the planning, execution and publication of research on extragalactic objects. The foundation of NED is a growing database of galaxies, quasars and all types of extragalactic objects that can be searched by positions, redshifts, object types, references, authors, and multi-wavelength cross-identifications produced from thousands of catalogs and journal articles. The primary goal of NED is to maintain an up-to-date panchromatic synthesis of basic data for all known (cataloged and published) extragalactic objects, including pointers to the astrophysical literature and to relevant distributed archive resources. Scientists working in observational extragalactic astronomy use NED in their research at nearly every step, from proposal planning, through data collection, data interpretation, publication, and archiving of calibrated images and spectra. Many professors also incorporate NED into their lesson plans. As of the time of writing, over 2,100 articles in the refereed astrophysics literature (Astrophysical Journal, Astronomical Journal, Monthly Notices of the Royal Astronomical Society, Astronomy & Astrophysics, etc.) have acknowledged NED directly as an important tool for the authors’ research."
   ]
  },
  {
   "cell_type": "code",
   "execution_count": 6,
   "metadata": {},
   "outputs": [
    {
     "data": {
      "text/html": [
       "<i>Table masked=True length=1</i>\n",
       "<table id=\"table140009741176728\" class=\"table-striped table-bordered table-condensed\">\n",
       "<thead><tr><th>No.</th><th>Object Name</th><th>RA</th><th>DEC</th><th>Type</th><th>Velocity</th><th>Redshift</th><th>Redshift Flag</th><th>Magnitude and Filter</th><th>Separation</th><th>References</th><th>Notes</th><th>Photometry Points</th><th>Positions</th><th>Redshift Points</th><th>Diameter Points</th><th>Associations</th></tr></thead>\n",
       "<thead><tr><th></th><th></th><th>degrees</th><th>degrees</th><th></th><th>km / s</th><th></th><th></th><th></th><th>arcm</th><th></th><th></th><th></th><th></th><th></th><th></th><th></th></tr></thead>\n",
       "<thead><tr><th>int32</th><th>bytes30</th><th>float64</th><th>float64</th><th>object</th><th>float64</th><th>float64</th><th>object</th><th>object</th><th>float64</th><th>int32</th><th>int32</th><th>int32</th><th>int32</th><th>int32</th><th>int32</th><th>int32</th></tr></thead>\n",
       "<tr><td>1</td><td>MESSIER 031</td><td>10.68479</td><td>41.26906</td><td>G</td><td>-300.0</td><td>-0.001001</td><td></td><td>4.36</td><td>--</td><td>4500</td><td>23</td><td>147</td><td>32</td><td>34</td><td>7</td><td>2</td></tr>\n",
       "</table>"
      ],
      "text/plain": [
       "<Table masked=True length=1>\n",
       " No.  Object Name     RA     ... Redshift Points Diameter Points Associations\n",
       "                   degrees   ...                                             \n",
       "int32   bytes30    float64   ...      int32           int32         int32    \n",
       "----- ----------- ---------- ... --------------- --------------- ------------\n",
       "    1 MESSIER 031   10.68479 ...              34               7            2"
      ]
     },
     "execution_count": 6,
     "metadata": {},
     "output_type": "execute_result"
    }
   ],
   "source": [
    "# simple object querying\n",
    "result_table = Ned.query_object(\"m31\")\n",
    "# M31 is another name for the Andromeda galaxy\n",
    "\n",
    "result_table\n",
    "\n",
    "# RA & DEC:     like coordinates in the sky\n",
    "# Type:         type of object (galaxy, star, etc.)\n",
    "# Velocity:     the speed the object is moving away from us (negative means moving closer)\n",
    "# Redshift:     how light shifts toward shorter or longer wavelengths as \n",
    "                    # objects in space move closer or farther away from us. \n",
    "                    # Think doppler effect from ambulance, but with light!\n",
    "# Magnitude:    a (stupid) analog to brightness, with a higher number meaning the object is dimmer \n",
    "                    # (the sun is -26, moon is -12, mars is +1.78, andromeda is 3.44, etc.)\n"
   ]
  },
  {
   "cell_type": "markdown",
   "metadata": {},
   "source": [
    "This is how you get images of an object"
   ]
  },
  {
   "cell_type": "code",
   "execution_count": 23,
   "metadata": {},
   "outputs": [
    {
     "name": "stdout",
     "output_type": "stream",
     "text": [
      "http://ned.ipac.caltech.edu/dss1B2/Bb/MESSIER_031:I:IIIaJ:dss1.fits.gz\n"
     ]
    }
   ],
   "source": [
    "image_list = Ned.get_image_list(\"m31\")\n",
    "print(image_list[0])"
   ]
  },
  {
   "cell_type": "markdown",
   "metadata": {},
   "source": [
    "We will have data in tables like the one below (pandas?) (will either have tabs or bars)"
   ]
  },
  {
   "cell_type": "raw",
   "metadata": {},
   "source": [
    "1|SDSS J000109.97-033818.0|  0.29162 |  -3.63817 |G|935932| 3.121932 |SPEC|20.12|  0.000|1|0|1|2|1|0|0\n",
    "2|SDSS J000123.61-032317.9|  0.34852 |  -3.38815 |G|935604| 3.120838 |SPEC|20.18|  0.000|2|0|1|2|1|0|0\n",
    "3|SDSS J000540.54-010453.0|  1.41894 |  -1.08141 |G|1071030| 3.572572 |SPEC|22.2g|  0.000|4|0|15|3|2|4|0\n",
    "4|SDSS J000554.03+003041.9|  1.47515 |   0.51171 |G|1240805| 4.138880 |SPEC|22.3g|  0.000|5|0|5|3|2|4|0\n",
    "5|SDSS J000723.99-002337.7|  1.84998 |  -0.39383 |G|1703482| 5.682204 |SPEC|22.0g|  0.000|2|0|15|2|1|4|0\n",
    "6|SDSS J000802.41+143326.0|  2.01006 |  14.55723 |G|1753370| 5.848613 |SPEC|21.7g|  0.000|0|0|15|2|1|4|0\n",
    "7|SDSS J000917.51-002136.1|  2.32298 |  -0.36003 |G|1153033| 3.846104 |SPEC|20.3g|  0.000|1|0|15|2|1|4|0\n",
    "8|SDSS J000919.96-094809.2|  2.33317 |  -9.80258 |G|1676925| 5.593618 |SPEC|20.0g|  0.000|0|0|15|2|1|4|0\n",
    "9|SDSS J000925.22-005602.9|  2.35509 |  -0.93419 |G|945136| 3.152634 |SPEC|21.0g|  0.000|4|0|19|4|2|4|0"
   ]
  },
  {
   "cell_type": "markdown",
   "metadata": {},
   "source": [
    "We can grab the names of the targets we want, and get information or images with astroquery"
   ]
  },
  {
   "cell_type": "code",
   "execution_count": 33,
   "metadata": {},
   "outputs": [
    {
     "data": {
      "text/html": [
       "<i>Table masked=True length=1</i>\n",
       "<table id=\"table140009739783976\" class=\"table-striped table-bordered table-condensed\">\n",
       "<thead><tr><th>No.</th><th>Object Name</th><th>RA</th><th>DEC</th><th>Type</th><th>Velocity</th><th>Redshift</th><th>Redshift Flag</th><th>Magnitude and Filter</th><th>Separation</th><th>References</th><th>Notes</th><th>Photometry Points</th><th>Positions</th><th>Redshift Points</th><th>Diameter Points</th><th>Associations</th></tr></thead>\n",
       "<thead><tr><th></th><th></th><th>degrees</th><th>degrees</th><th></th><th>km / s</th><th></th><th></th><th></th><th>arcm</th><th></th><th></th><th></th><th></th><th></th><th></th><th></th></tr></thead>\n",
       "<thead><tr><th>int32</th><th>bytes30</th><th>float64</th><th>float64</th><th>object</th><th>float64</th><th>float64</th><th>object</th><th>object</th><th>float64</th><th>int32</th><th>int32</th><th>int32</th><th>int32</th><th>int32</th><th>int32</th><th>int32</th></tr></thead>\n",
       "<tr><td>1</td><td>SDSS J000109.97-033818.0</td><td>0.29162</td><td>-3.63817</td><td>G</td><td>935932.0</td><td>3.121932</td><td>SPEC</td><td>20.12</td><td>--</td><td>1</td><td>0</td><td>1</td><td>2</td><td>1</td><td>0</td><td>0</td></tr>\n",
       "</table>"
      ],
      "text/plain": [
       "<Table masked=True length=1>\n",
       " No.        Object Name            RA     ... Diameter Points Associations\n",
       "                                degrees   ...                             \n",
       "int32         bytes30           float64   ...      int32         int32    \n",
       "----- ------------------------ ---------- ... --------------- ------------\n",
       "    1 SDSS J000109.97-033818.0    0.29162 ...               0            0"
      ]
     },
     "execution_count": 33,
     "metadata": {},
     "output_type": "execute_result"
    }
   ],
   "source": [
    "result_table = Ned.query_object(\"SDSS J000109.97-033818.0\")\n",
    "result_table"
   ]
  },
  {
   "cell_type": "code",
   "execution_count": 34,
   "metadata": {},
   "outputs": [
    {
     "data": {
      "text/plain": [
       "['http://ned.ipac.caltech.edu/dss/SDSS_J000109.97-033818.0.fits.gz']"
      ]
     },
     "execution_count": 34,
     "metadata": {},
     "output_type": "execute_result"
    }
   ],
   "source": [
    "image_list = Ned.get_image_list(\"SDSS J000109.97-033818.0\")\n",
    "image_list"
   ]
  },
  {
   "cell_type": "code",
   "execution_count": null,
   "metadata": {},
   "outputs": [],
   "source": [
    "Then we can do Data Science!"
   ]
  },
  {
   "cell_type": "code",
   "execution_count": null,
   "metadata": {},
   "outputs": [],
   "source": []
  }
 ],
 "metadata": {
  "kernelspec": {
   "display_name": "Python 3",
   "language": "python",
   "name": "python3"
  },
  "language_info": {
   "codemirror_mode": {
    "name": "ipython",
    "version": 3
   },
   "file_extension": ".py",
   "mimetype": "text/x-python",
   "name": "python",
   "nbconvert_exporter": "python",
   "pygments_lexer": "ipython3",
   "version": "3.6.5"
  }
 },
 "nbformat": 4,
 "nbformat_minor": 2
}
