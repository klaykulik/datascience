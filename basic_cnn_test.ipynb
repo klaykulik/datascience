{
 "cells": [
  {
   "cell_type": "code",
   "execution_count": 1,
   "metadata": {},
   "outputs": [],
   "source": [
    "import warnings\n",
    "warnings.filterwarnings('ignore', category=DeprecationWarning)\n",
    "warnings.filterwarnings('ignore', category=FutureWarning)\n",
    "import tensorflow as tf\n",
    "import numpy as np\n",
    "import matplotlib.pyplot as plt\n",
    "import os\n",
    "import glob\n",
    "import cv2"
   ]
  },
  {
   "cell_type": "code",
   "execution_count": 2,
   "metadata": {},
   "outputs": [
    {
     "name": "stdout",
     "output_type": "stream",
     "text": [
      "(4458, 255, 255, 3)\n",
      "(4458,)\n"
     ]
    }
   ],
   "source": [
    "def load_images(image_directory):\n",
    "    files = glob.glob(image_directory+\"/*.png\")\n",
    "    data = []\n",
    "    labels = []\n",
    "    for file_name in files:\n",
    "        img = cv2.imread(file_name, cv2.IMREAD_UNCHANGED)\n",
    "        data.append(img)\n",
    "        labels.append(file_name.split(\"/\")[1])\n",
    "    return np.array(data), np.array(labels)\n",
    "\n",
    "\n",
    "img_data = np.array([]).reshape(-1, 255, 255, 3)\n",
    "labels = np.array([]).reshape(-1)\n",
    "data_dirs = glob.glob(\"images/*\")\n",
    "for data_dir in data_dirs:\n",
    "    X, y = load_images(data_dir)\n",
    "    img_data = np.concatenate((img_data, X))\n",
    "    labels = np.concatenate((labels, y))\n",
    "    \n",
    "print(img_data.shape)\n",
    "print(labels.shape)"
   ]
  },
  {
   "cell_type": "code",
   "execution_count": 3,
   "metadata": {},
   "outputs": [],
   "source": [
    "#TODO: shuffle and split the images into training and validation set(maybe test set too?)\n",
    "#We have to make sure to shuffle both the image and the corresponding label together otherwise we might end up with the wrong label."
   ]
  },
  {
   "cell_type": "code",
   "execution_count": null,
   "metadata": {},
   "outputs": [],
   "source": []
  }
 ],
 "metadata": {
  "kernelspec": {
   "display_name": "Python 3",
   "language": "python",
   "name": "python3"
  },
  "language_info": {
   "codemirror_mode": {
    "name": "ipython",
    "version": 3
   },
   "file_extension": ".py",
   "mimetype": "text/x-python",
   "name": "python",
   "nbconvert_exporter": "python",
   "pygments_lexer": "ipython3",
   "version": "3.6.8"
  }
 },
 "nbformat": 4,
 "nbformat_minor": 2
}
