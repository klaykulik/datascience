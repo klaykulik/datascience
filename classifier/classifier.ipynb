{
 "cells": [
  {
   "cell_type": "code",
   "execution_count": 56,
   "metadata": {},
   "outputs": [],
   "source": [
    "from __future__ import absolute_import, division, print_function, unicode_literals\n",
    "import tensorflow as tf\n",
    "from tensorflow.keras.models import Sequential\n",
    "from tensorflow.keras.layers import Dense, Conv2D, Flatten, Dropout, MaxPooling2D\n",
    "from tensorflow.keras.preprocessing.image import ImageDataGenerator\n",
    "\n",
    "import os\n",
    "import numpy as np\n",
    "import matplotlib.pyplot as plt\n",
    "%matplotlib inline\n",
    "import pathlib\n",
    "from sklearn.metrics import confusion_matrix\n",
    "from sklearn.utils.multiclass import unique_labels"
   ]
  },
  {
   "cell_type": "code",
   "execution_count": 3,
   "metadata": {},
   "outputs": [
    {
     "name": "stdout",
     "output_type": "stream",
     "text": [
      "['spiral' 'elliptical' 'irregular']\n"
     ]
    }
   ],
   "source": [
    "#we assume each subdirectory in train_dir contains one class of images\n",
    "#and the subdirectory's name is the class name\n",
    "train_dir = \"data\"\n",
    "train_dir = pathlib.Path(train_dir)\n",
    "CLASS_NAMES = np.array([item.name for item in train_dir.glob('*')])\n",
    "print(CLASS_NAMES)\n",
    "class_num = len(CLASS_NAMES)\n",
    "\n",
    "#settings I got online, can be changed according to our data\n",
    "batch_size = 128\n",
    "epochs = 15\n",
    "IMG_HEIGHT = 150\n",
    "IMG_WIDTH = 150"
   ]
  },
  {
   "cell_type": "code",
   "execution_count": 4,
   "metadata": {},
   "outputs": [],
   "source": [
    "#image generator that using different augmentations to give us more data points\n",
    "#split the data into training/validation with 0.8/0.2\n",
    "image_generator = ImageDataGenerator(\n",
    "                        rescale=1./255,\n",
    "                        rotation_range=45,\n",
    "                        width_shift_range=.15,\n",
    "                        height_shift_range=.15,\n",
    "                        horizontal_flip=True,\n",
    "                        zoom_range=0.5,\n",
    "                        validation_split=0.2)"
   ]
  },
  {
   "cell_type": "code",
   "execution_count": 5,
   "metadata": {},
   "outputs": [
    {
     "name": "stdout",
     "output_type": "stream",
     "text": [
      "Found 3083 images belonging to 3 classes.\n",
      "Found 769 images belonging to 3 classes.\n"
     ]
    }
   ],
   "source": [
    "#using the above generate get data flow from directory\n",
    "train_data_gen = image_generator.flow_from_directory(batch_size=batch_size,\n",
    "                                                           directory=train_dir,\n",
    "                                                           shuffle=True,\n",
    "                                                           target_size=(IMG_HEIGHT, IMG_WIDTH),                                         \n",
    "                                                           subset='training',\n",
    "                                                           classes = list(CLASS_NAMES))\n",
    "\n",
    "val_data_gen = image_generator.flow_from_directory(batch_size=batch_size,\n",
    "                                                              directory=train_dir,\n",
    "                                                              target_size=(IMG_HEIGHT, IMG_WIDTH),\n",
    "                                                              subset='validation',\n",
    "                                                              classes = list(CLASS_NAMES))"
   ]
  },
  {
   "cell_type": "code",
   "execution_count": 8,
   "metadata": {},
   "outputs": [],
   "source": [
    "#A simple Sequential model\n",
    "#last line is needed for multi-class classification, others can be changed\n",
    "model_new = Sequential([\n",
    "    Conv2D(16, 3, padding='same', activation='relu', \n",
    "           input_shape=(IMG_HEIGHT, IMG_WIDTH ,3)),\n",
    "    MaxPooling2D(),\n",
    "    Dropout(0.2),\n",
    "    Conv2D(32, 3, padding='same', activation='relu'),\n",
    "    MaxPooling2D(),\n",
    "    Conv2D(64, 3, padding='same', activation='relu'),\n",
    "    MaxPooling2D(),\n",
    "    Dropout(0.2),\n",
    "    Flatten(),\n",
    "    Dense(512, activation='relu'),\n",
    "   \tDense(class_num,activation='softmax')\n",
    "])"
   ]
  },
  {
   "cell_type": "code",
   "execution_count": 9,
   "metadata": {},
   "outputs": [
    {
     "name": "stdout",
     "output_type": "stream",
     "text": [
      "Model: \"sequential_1\"\n",
      "_________________________________________________________________\n",
      "Layer (type)                 Output Shape              Param #   \n",
      "=================================================================\n",
      "conv2d_3 (Conv2D)            (None, 150, 150, 16)      448       \n",
      "_________________________________________________________________\n",
      "max_pooling2d_3 (MaxPooling2 (None, 75, 75, 16)        0         \n",
      "_________________________________________________________________\n",
      "dropout_2 (Dropout)          (None, 75, 75, 16)        0         \n",
      "_________________________________________________________________\n",
      "conv2d_4 (Conv2D)            (None, 75, 75, 32)        4640      \n",
      "_________________________________________________________________\n",
      "max_pooling2d_4 (MaxPooling2 (None, 37, 37, 32)        0         \n",
      "_________________________________________________________________\n",
      "conv2d_5 (Conv2D)            (None, 37, 37, 64)        18496     \n",
      "_________________________________________________________________\n",
      "max_pooling2d_5 (MaxPooling2 (None, 18, 18, 64)        0         \n",
      "_________________________________________________________________\n",
      "dropout_3 (Dropout)          (None, 18, 18, 64)        0         \n",
      "_________________________________________________________________\n",
      "flatten_1 (Flatten)          (None, 20736)             0         \n",
      "_________________________________________________________________\n",
      "dense_2 (Dense)              (None, 512)               10617344  \n",
      "_________________________________________________________________\n",
      "dense_3 (Dense)              (None, 3)                 1539      \n",
      "=================================================================\n",
      "Total params: 10,642,467\n",
      "Trainable params: 10,642,467\n",
      "Non-trainable params: 0\n",
      "_________________________________________________________________\n"
     ]
    }
   ],
   "source": [
    "#compile the model\n",
    "model_new.compile(optimizer='adam',\n",
    "                  loss=tf.keras.losses.CategoricalCrossentropy(),\n",
    "                  metrics=[\"accuracy\"])\n",
    "\n",
    "model_new.summary()"
   ]
  },
  {
   "cell_type": "code",
   "execution_count": 10,
   "metadata": {},
   "outputs": [
    {
     "name": "stdout",
     "output_type": "stream",
     "text": [
      "Epoch 1/15\n",
      "24/24 [==============================] - 29s 1s/step - loss: 0.6100 - acc: 0.8467 - val_loss: 0.5013 - val_acc: 0.8620\n",
      "Epoch 2/15\n",
      "24/24 [==============================] - 30s 1s/step - loss: 0.4032 - acc: 0.8646 - val_loss: 0.3685 - val_acc: 0.8750\n",
      "Epoch 3/15\n",
      "24/24 [==============================] - 30s 1s/step - loss: 0.3643 - acc: 0.8640 - val_loss: 0.3196 - val_acc: 0.8854\n",
      "Epoch 4/15\n",
      "24/24 [==============================] - 29s 1s/step - loss: 0.3073 - acc: 0.8782 - val_loss: 0.3098 - val_acc: 0.8789\n",
      "Epoch 5/15\n",
      "24/24 [==============================] - 29s 1s/step - loss: 0.3144 - acc: 0.8755 - val_loss: 0.3077 - val_acc: 0.8880\n",
      "Epoch 6/15\n",
      "24/24 [==============================] - 32s 1s/step - loss: 0.2897 - acc: 0.8796 - val_loss: 0.3136 - val_acc: 0.8789\n",
      "Epoch 7/15\n",
      "24/24 [==============================] - 31s 1s/step - loss: 0.2739 - acc: 0.8866 - val_loss: 0.3042 - val_acc: 0.8815\n",
      "Epoch 8/15\n",
      "24/24 [==============================] - 31s 1s/step - loss: 0.3055 - acc: 0.8742 - val_loss: 0.2778 - val_acc: 0.8906\n",
      "Epoch 9/15\n",
      "24/24 [==============================] - 30s 1s/step - loss: 0.2752 - acc: 0.8867 - val_loss: 0.2670 - val_acc: 0.8841\n",
      "Epoch 10/15\n",
      "24/24 [==============================] - 31s 1s/step - loss: 0.3045 - acc: 0.8777 - val_loss: 0.3189 - val_acc: 0.8971\n",
      "Epoch 11/15\n",
      "24/24 [==============================] - 32s 1s/step - loss: 0.2461 - acc: 0.9004 - val_loss: 0.2700 - val_acc: 0.9062\n",
      "Epoch 12/15\n",
      "24/24 [==============================] - 29s 1s/step - loss: 0.2581 - acc: 0.8915 - val_loss: 0.2686 - val_acc: 0.8880\n",
      "Epoch 13/15\n",
      "24/24 [==============================] - 31s 1s/step - loss: 0.2668 - acc: 0.8952 - val_loss: 0.2526 - val_acc: 0.9010\n",
      "Epoch 14/15\n",
      "24/24 [==============================] - 38s 2s/step - loss: 0.2273 - acc: 0.9032 - val_loss: 0.2558 - val_acc: 0.8958\n",
      "Epoch 15/15\n",
      "24/24 [==============================] - 28s 1s/step - loss: 0.2656 - acc: 0.8866 - val_loss: 0.2849 - val_acc: 0.8932\n"
     ]
    }
   ],
   "source": [
    "#fit the model using data generator\n",
    "history = model_new.fit_generator(\n",
    "    train_data_gen,\n",
    "    steps_per_epoch=train_data_gen.samples // batch_size,\n",
    "    epochs=epochs,\n",
    "    validation_data=val_data_gen,\n",
    "    validation_steps=val_data_gen.samples // batch_size\n",
    ")"
   ]
  },
  {
   "cell_type": "code",
   "execution_count": 11,
   "metadata": {},
   "outputs": [],
   "source": [
    "#get accuracy and loss \n",
    "acc = history.history['acc']\n",
    "val_acc = history.history['val_acc']\n",
    "\n",
    "loss = history.history['loss']\n",
    "val_loss = history.history['val_loss']"
   ]
  },
  {
   "cell_type": "code",
   "execution_count": 12,
   "metadata": {},
   "outputs": [
    {
     "data": {
      "image/png": "[encoded data removed]",
      "text/plain": [
       "<Figure size 576x576 with 2 Axes>"
      ]
     },
     "metadata": {
      "needs_background": "light"
     },
     "output_type": "display_data"
    }
   ],
   "source": [
    "#plot training and validation accuracy and loss\n",
    "epochs_range = range(epochs)\n",
    "\n",
    "plt.figure(figsize=(8, 8))\n",
    "plt.subplot(1, 2, 1)\n",
    "plt.plot(epochs_range, acc, label='Training Accuracy')\n",
    "plt.plot(epochs_range, val_acc, label='Validation Accuracy')\n",
    "plt.legend(loc='lower right')\n",
    "plt.title('Training and Validation Accuracy')\n",
    "\n",
    "plt.subplot(1, 2, 2)\n",
    "plt.plot(epochs_range, loss, label='Training Loss')\n",
    "plt.plot(epochs_range, val_loss, label='Validation Loss')\n",
    "plt.legend(loc='upper right')\n",
    "plt.title('Training and Validation Loss')\n",
    "plt.show()"
   ]
  },
  {
   "cell_type": "code",
   "execution_count": 39,
   "metadata": {},
   "outputs": [
    {
     "name": "stdout",
     "output_type": "stream",
     "text": [
      "[1. 0. 0.]\n"
     ]
    }
   ],
   "source": [
    "#get the actual labels for the test data (we use validation data as test data for now)\n",
    "number_of_examples = len(val_data_gen.filenames)\n",
    "number_of_generator_calls = np.ceil(number_of_examples / (1.0 * batch_size)) \n",
    "# 1.0 above is to skip integer division\n",
    "\n",
    "test_labels = []\n",
    "\n",
    "for i in range(0,int(number_of_generator_calls)):\n",
    "    test_labels.extend(np.array(val_data_gen[i][1]))\n",
    "    \n",
    "print(test_labels[0])"
   ]
  },
  {
   "cell_type": "code",
   "execution_count": 45,
   "metadata": {},
   "outputs": [
    {
     "name": "stdout",
     "output_type": "stream",
     "text": [
      "[[0. 1. 0.]\n",
      " [1. 0. 0.]\n",
      " [1. 0. 0.]\n",
      " ...\n",
      " [1. 0. 0.]\n",
      " [0. 1. 0.]\n",
      " [1. 0. 0.]]\n"
     ]
    }
   ],
   "source": [
    "#make prediction on the test data\n",
    "pre = np.round(model_new.predict_generator(val_data_gen))\n",
    "print(pre)\n"
   ]
  },
  {
   "cell_type": "code",
   "execution_count": 73,
   "metadata": {},
   "outputs": [
    {
     "name": "stdout",
     "output_type": "stream",
     "text": [
      "[[636  27   0]\n",
      " [ 12  45   0]\n",
      " [ 47   1   1]]\n",
      "Confusion matrix, without normalization\n"
     ]
    },
    {
     "data": {
      "text/plain": [
       "<matplotlib.axes._subplots.AxesSubplot at 0x7f9f53837438>"
      ]
     },
     "execution_count": 73,
     "metadata": {},
     "output_type": "execute_result"
    },
    {
     "data": {
      "image/png": "[encoded data removed]",
      "text/plain": [
       "<Figure size 432x288 with 2 Axes>"
      ]
     },
     "metadata": {
      "needs_background": "light"
     },
     "output_type": "display_data"
    }
   ],
   "source": [
    "def plot_confusion_matrix(y_true, y_pred, classes,\n",
    "                          normalize=False,\n",
    "                          title=None,\n",
    "                          cmap=plt.cm.Blues):\n",
    "    \"\"\"\n",
    "    This function prints and plots the confusion matrix.\n",
    "    Normalization can be applied by setting `normalize=True`.\n",
    "    \"\"\"\n",
    "    if not title:\n",
    "        if normalize:\n",
    "            title = 'Normalized confusion matrix'\n",
    "        else:\n",
    "            title = 'Confusion matrix, without normalization'\n",
    "\n",
    "    # Compute confusion matrix\n",
    "    cm = np.array(confusion_matrix(y_true, y_pred))\n",
    "    print(cm);\n",
    "    # Only use the labels that appear in the data\n",
    "    if normalize:\n",
    "        cm = cm.astype('float') / cm.sum(axis=1)[:, np.newaxis]\n",
    "        print(\"Normalized confusion matrix\")\n",
    "    else:\n",
    "        print('Confusion matrix, without normalization')\n",
    "\n",
    "    fig, ax = plt.subplots()\n",
    "    ax.axis('equal')\n",
    "    im = ax.imshow(cm, interpolation='nearest', cmap=cmap)\n",
    "    ax.figure.colorbar(im, ax=ax)\n",
    "    # We want to show all ticks...\n",
    "    ax.set(xticks=np.arange(cm.shape[1]),\n",
    "           yticks=np.arange(cm.shape[0]),\n",
    "           # ... and label them with the respective list entries\n",
    "           xticklabels=classes, yticklabels=classes,\n",
    "           title=title,\n",
    "           ylabel='True label',\n",
    "           xlabel='Predicted label')\n",
    "\n",
    "    # Rotate the tick labels and set their alignment.\n",
    "    plt.setp(ax.get_xticklabels(), rotation=45, ha=\"right\",\n",
    "             rotation_mode=\"anchor\")\n",
    "\n",
    "    # Loop over data dimensions and create text annotations.\n",
    "    fmt = '.2f' if normalize else 'd'\n",
    "    thresh = cm.max() / 2.\n",
    "    for i in range(cm.shape[0]):\n",
    "        for j in range(cm.shape[1]):\n",
    "            ax.text(j, i, format(cm[i, j], fmt),\n",
    "                    ha=\"center\", va=\"center\",\n",
    "                    color=\"white\" if cm[i, j] > thresh else \"black\")\n",
    "    fig.tight_layout();\n",
    "    return ax\n",
    "y_true = np.nonzero(test_labels)[1].astype(int)\n",
    "y_pred = np.nonzero(pre)[1].astype(int)\n",
    "\n",
    "plot_confusion_matrix(y_true,y_pred , CLASS_NAMES)"
   ]
  },
  {
   "cell_type": "code",
   "execution_count": null,
   "metadata": {},
   "outputs": [],
   "source": []
  }
 ],
 "metadata": {
  "kernelspec": {
   "display_name": "Python 3",
   "language": "python",
   "name": "python3"
  },
  "language_info": {
   "codemirror_mode": {
    "name": "ipython",
    "version": 3
   },
   "file_extension": ".py",
   "mimetype": "text/x-python",
   "name": "python",
   "nbconvert_exporter": "python",
   "pygments_lexer": "ipython3",
   "version": "3.6.8"
  }
 },
 "nbformat": 4,
 "nbformat_minor": 2
}
